{
 "cells": [
  {
   "cell_type": "markdown",
   "metadata": {},
   "source": [
    "# Probability and Statistical models"
   ]
  },
  {
   "cell_type": "markdown",
   "metadata": {},
   "source": [
    "## Axioms of Probability"
   ]
  },
  {
   "cell_type": "markdown",
   "metadata": {},
   "source": [
    "\n",
    "Given a sample space S such that S is a set that contains all possible outcomes from a *random experiment* the following axioms hold\n",
    "\n",
    "1. $P(S) = 1$\n",
    "2. $If A \\cap B = \\emptyset, then P(A \\cup B) = P(A) + P(B)$\n",
    "3. $P(A^c) = 1 - P(A)$\n",
    "4. $If P(A) > 0, P(A|B) = \\frac{P(A \\cap B)}{P(B)}$\n",
    "5. $If P(A) > 0, P(B | A) = \\frac{P(A \\cap B)}{P(A)}$\n",
    "6. If events $A_{1}, ...,A_{n}$  are **independent**\n",
    "\n",
    "  $P\\{A_{1} \\cup ... \\cup A_{n} \\} = P\\{A_{1}\\} ... P\\{A_{n}\\}$"
   ]
  },
  {
   "cell_type": "markdown",
   "metadata": {},
   "source": [
    "### Bayes Theorem\n",
    "A mathematical formula for determining conditional probability between random variables.The theorem provides a way to revise existing predictions or theories given new or additional evidence."
   ]
  },
  {
   "cell_type": "markdown",
   "metadata": {},
   "source": [
    "Take a [*partition*](https://en.wikipedia.org/wiki/Partition_of_a_set) of the sample space S, B such that: \n",
    "\n",
    "$B_{1},..B_{k} s.t. B_{i} \\cap B_{j} = \\emptyset$,    if $i \\ne j$ and \n",
    "$B_{1} \\cup B_{2}\\cup ... B_{K} = S$\n",
    "\n",
    "$A = (A \\cap B_{1}) \\cup...\\cup(A \\cap B_{K})$\n",
    "\n",
    "=> $P(A) = P(A \\cap B) +...+ P(A \\cap B_{K})$\n",
    "\n",
    "**Bayes Formula is:**\n",
    "\n",
    "$P(B_{j} | A) = \\frac{P(A|B_{j})P(B_{j})}{P(A)} = \\frac{P(A|B_{j})P(B_{j})}{P(A|B_{1})P(B_{1}) +...+ P(A|B_{K})P(B_{K})}$"
   ]
  },
  {
   "cell_type": "markdown",
   "metadata": {
    "collapsed": true
   },
   "source": [
    "## Probability Distributions\n",
    "\n",
    "The set of all possible values of a *random variable* and the probabilities of each of these values equalling the variable.\n",
    "* If the random variables are finite or countably infinite they are considered a *discrete* random variables.\n",
    "  - these can be modelled as distribution \n",
    "* Else if the random variable can take any value within an interval it is called a *continuous* random variable\n",
    "  - these are modelled using a **probability density function(PDF)**\n"
   ]
  },
  {
   "cell_type": "markdown",
   "metadata": {},
   "source": [
    "### Cumulative distribution functions\n",
    "The **cumulative distribution function (CDF) ** of a random variable X is defined as:\n",
    "\n",
    "$F_{X}(x) = P\\{X \\le x\\}$\n",
    "\n",
    "If X can be modelled with the probability distribution function $f_{X}$ then:\n",
    "\n",
    "$F_{X}(x) = \\int_{-\\infty}^x f_{X}(u)\\, du$\n",
    "\n",
    "If we want to know the probability of X occuring given that $a\\le X \\le b$ we use the CDF which tells us that $P\\{ a \\le X \\le b\\} = F_{X}(b) - F_{X}(a) $"
   ]
  },
  {
   "cell_type": "markdown",
   "metadata": {},
   "source": [
    "### Quantiles and percentiles\n",
    "\n",
    "If the CDF of X is continuous and strictly increasing then it has an inverse function $F^{-1}$.\n",
    "\n",
    "$\\forall q : 0 \\lt q \\lt 1 , F^{-1}(q)$ is called the q-**quantile**"
   ]
  },
  {
   "cell_type": "markdown",
   "metadata": {},
   "source": [
    "### Expectations and variances\n",
    "The **expectation** or expected value of a ***continuous*** random variable X is \n",
    "\n",
    "$$E(X) = \\int_{+\\infty}^{-\\infty}xf_{x}(x)\\, dx$$\n",
    "\n",
    "If X is ***discrete*** then \n",
    "\n",
    "$$E(X) = \\sum_{i=1}^{n} x_{i}P_{i}$$\n",
    "\n",
    "Where n is all possible values of X and P are the probabilities of those values.\n",
    "\n",
    "The **variance** of X is\n",
    "$$\\sigma_{x}^2 = E\\{X - E(X)\\}^2$$\n",
    "\n",
    "Therefore if X is continuous, the variance is:\n",
    "$$\\sigma_{x}^2 = \\int \\{ x - E(X) \\}^2 f_{X}(x)\\, dx$$\n",
    "\n",
    "and if X is discrete, the variance is:\n",
    "\n",
    "$$\\sigma_{x}^2 = \\sum_{i=1}^{n}\\{x_{i} - E(X)\\}^2P_{i}$$\n",
    "\n",
    "Another format for **variance** is:\n",
    "$$ \\sigma_{x}^2 = E(X^2) - \\{E(X)\\}^2 $$\n",
    "\n",
    "The **standard deviation** of X $\\sigma_{X}$ is $\\sqrt{E\\{X - E(X)\\}^2}$\n"
   ]
  },
  {
   "cell_type": "markdown",
   "metadata": {},
   "source": [
    "## The Binomial Distribution\n",
    "\n",
    "Given we conduct *n* experiments where there are 2 possible outcomes A and B\n",
    "with P(A) = p and P(B) = 1 - p and that the probability of each outcome in each individual experiment is the same. We can say that the total number of an event occurring in n experiments can be expressed using the binomial formula:\n",
    "$$ \\binom n k = \\frac{n!}{k!(n-k)!} $$\n",
    "Therefore the binomial distribution is:\n",
    "$$P(X = k) = \\binom n k p^k(1-p)^{n-k} for k = 0,1,2,...,n  $$"
   ]
  },
  {
   "cell_type": "code",
   "execution_count": 1,
   "metadata": {},
   "outputs": [
    {
     "data": {
      "text/plain": [
       "<matplotlib.axes._subplots.AxesSubplot at 0x7f7c9cdc0518>"
      ]
     },
     "execution_count": 1,
     "metadata": {},
     "output_type": "execute_result"
    },
    {
     "data": {
      "image/png": "[encoded data removed]",
      "text/plain": [
       "<matplotlib.figure.Figure at 0x7f7cd45ca6a0>"
      ]
     },
     "metadata": {},
     "output_type": "display_data"
    }
   ],
   "source": [
    "import numpy as np\n",
    "import matplotlib.pyplot as plt\n",
    "import seaborn as sns\n",
    "%matplotlib inline\n",
    "\n",
    "bindist = [np.random.binomial(n=10, p=0.6) for _ in range(100)]\n",
    "sns.distplot(bindist, kde=False)\n"
   ]
  },
  {
   "cell_type": "markdown",
   "metadata": {},
   "source": [
    "## Location , Scale and Shape Parameters\n",
    "\n",
    "Parameters can be classified as location, scale or shape depending on the effect they have on the distribution:\n",
    "\n",
    "- **location parameter: ** Shifts the distribution to the right or left without changing it's shape or standard deviation\n",
    "- **scale parameter: ** If it is a constant multiple of the standard deviation.\n",
    "- **shape parameter: ** Modifies the shape of the distribution e.g. p in binomial(n,p)"
   ]
  },
  {
   "cell_type": "markdown",
   "metadata": {},
   "source": [
    "## Common Continuous Distribution"
   ]
  },
  {
   "cell_type": "markdown",
   "metadata": {},
   "source": [
    "### Uniform distributions \n",
    "The uniform distribution of a given interval [a,b] can be denoted as Uniform[a,b] and will have a PDF of 1/(b-a) on [a,b] and 0 if outside the a,b interval\n",
    "\n",
    "If X is uniformly distributed then \n",
    "$$E(X) = \\frac{1}{b-a} \\int_{a}^bx\\, dx = \\frac{a + b}{2}$$\n",
    "\n",
    "*Reparameterisation* - the act of replacing the parameters of a distribution by an equivalent set. \n",
    "\n",
    "If you reparameterise a uniform distribution with $\\mu = (a + b)/2 and \\sigma = (b - a) / \\sqrt{12}$ then $\\mu$ represents the *location parameter* for the distribution and $\\sigma$ will represent its scale.\n",
    "\n"
   ]
  },
  {
   "cell_type": "markdown",
   "metadata": {},
   "source": [
    "### Normal Distributions\n",
    "\n",
    "Normal distributions are described by *probability density functions* the **standard normal distribution** is described by\n",
    "\n",
    "$$\\phi(x) = \\frac{1}{\\sqrt{2\\pi}}e^{(-x^2 / 2)}, \\ -\\infty \\lt x \\lt \\infty$$\n",
    "\n",
    "standard normal dist has mean 0 and variance of 1, and can be denoted as $Z$ \n",
    "\n",
    "$N(\\mu, \\sigma^2) = \\mu +\\sigma Z$\n",
    "\n",
    "where the mean denotes the location, and std the scale as shown below"
   ]
  },
  {
   "cell_type": "code",
   "execution_count": 2,
   "metadata": {},
   "outputs": [
    {
     "data": {
      "image/png": "[encoded data removed]",
      "text/plain": [
       "<matplotlib.figure.Figure at 0x7f7c9cd71b00>"
      ]
     },
     "metadata": {},
     "output_type": "display_data"
    }
   ],
   "source": [
    "def gen_distplot(mean, std):\n",
    "    normdist = [np.random.normal(loc=mean, scale=std) for _ in range(100)]\n",
    "    sns.distplot(normdist, hist=False)\n",
    "\n",
    "gen_distplot(0, 1) # blue\n",
    "gen_distplot(1, 1) # orange\n",
    "gen_distplot(0, 2) # green"
   ]
  },
  {
   "cell_type": "markdown",
   "metadata": {},
   "source": [
    "### Log normal distribution\n",
    "\n",
    "X is said to have a Lognormal distribution if log(X) is normally distributed. This gives numerous other attributes, i.e. the median of X is $e^\\mu$ and $E(X) = e^{(\\mu+\\sigma^2 / 2)}$\n",
    "\n",
    "For a lognormal distribution $\\mu$ is the scale parameter and $\\sigma$ the shape parameter the lognormal distribution doesn't have a location parameter, it's location is fixed to 0(log(1) = 0)"
   ]
  },
  {
   "cell_type": "code",
   "execution_count": 3,
   "metadata": {},
   "outputs": [
    {
     "data": {
      "image/png": "[encoded data removed]",
      "text/plain": [
       "<matplotlib.figure.Figure at 0x7f7c9cd719b0>"
      ]
     },
     "metadata": {},
     "output_type": "display_data"
    }
   ],
   "source": [
    "def gen_distplot(mean, std):\n",
    "    lognormdist = [np.random.lognormal(mean=mean, sigma=std) for _ in range(100)]\n",
    "    sns.distplot(lognormdist, hist=False)\n",
    "    \n",
    "gen_distplot(0, 1) # blue\n",
    "gen_distplot(1, 1) # orange\n",
    "gen_distplot(0, 2) # green"
   ]
  },
  {
   "cell_type": "markdown",
   "metadata": {},
   "source": [
    "## Sampling a Normal Distribution\n",
    "\n",
    "It is common for the population(distribution) to be too big to extract useful information from it. A common technique for dealing with this is to sample the distribution to obtain confidence intervals for the mean nad varieance or to test hypotheses about these parameters.\n",
    "\n",
    "\n",
    "There are a family of different distributions based on sampling the normal distribution:\n",
    " * Chi-squared distributions\n",
    " * t-distributions\n",
    " * F-distributions\n"
   ]
  },
  {
   "cell_type": "markdown",
   "metadata": {},
   "source": [
    "## Skewness and Kurtosis\n",
    "\n",
    "\n",
    "Skewness and kurtosis measure the shape of probability distributions:\n",
    "\n",
    "### Skewness\n",
    "\n",
    "**Skewness: ** A measure of the asymmetry of a distribution. If a distribution is symmetrical then it has a skewness of 0. If skew is **negative** it is skewed **left**(left tail is long), while if skew is **positive** it is **right**(right tail is long).\n",
    "\n",
    "In a normal distribution has value 0.\n",
    "\n",
    "$$Sk = \\big\\{\\frac{X - E(X)}{\\sigma}\\big\\}^3$$\n",
    "\n",
    "For a binomial distribution\n",
    "$$Sk(n,p) = \\frac{1 - 2p}{\\sqrt{np(1-p)}}$$"
   ]
  },
  {
   "cell_type": "markdown",
   "metadata": {},
   "source": [
    "### Kurtosis\n",
    "**Kurtosis: ** A measure of how heavy the tails are in an asymmetric distribution. Data with high kurtosis tends to have heavy tails and a lot of *outliers*. \n",
    "\n",
    "The Kurtosis of a normal distribution is 3."
   ]
  },
  {
   "cell_type": "markdown",
   "metadata": {},
   "source": [
    "## Pareto Distributions (**MORE RESEARCH NEEDED**)\n",
    "\n",
    "A law that indicates the probability that a given random variable is higher than some threshold x. It can be characterised by:\n",
    "$$ Cx^{-a} $$\n",
    "\n",
    "where C and a are positive constants **independent** of x.\n",
    "\n",
    "- CDF, F(x):\n",
    "    $$F(x) = 1 - \\big(\\frac{c}{x}\\big)^a,\\ \\ \\ x > c$$\n",
    "    \n",
    "- PDF, f(x):\n",
    "    $$f(x) = \\frac{ac^a}{x^{a+1}},\\ \\ \\ x > c$$\n",
    "\n",
    "Formal definition:\n",
    " *If X is a random variable th pareto type 1, the probability that X is greater than some function is:*\n",
    " $$\\bar{F}(x) = Pr(X > x) = \\cases{(\\frac{x_m}{x})^a\\ \\ x \\ge x_m, \\\\\n",
    " 1\\ \\ x \\lt x_m,}$$\n",
    " \n",
    "*Where x_* \n"
   ]
  },
  {
   "cell_type": "markdown",
   "metadata": {},
   "source": [
    "## Law of Large Numbers and Central Limit Theorem(CTL)\n",
    "\n",
    "- **Law of Large Numbers: ** Given $\\bar{X}_n$ is the mean of a sample of size n in a population\n",
    "$$P(\\bar{X}_n \\rightarrow \\mu as n \\rightarrow \\infty) = 1$$\n",
    "As the sample size approaches infinity the **sample mean** approaches the **population mean**\n",
    "- **Central Limit Theorem: ** The probability of $\\bar{X}_n$ approaches the normal distribution as *n* converges to $\\infty$.\n",
    "$$P\\{\\sqrt{n}(\\bar{X}_n - \\mu) \\lt x\\} \\rightarrow \\phi(x/\\sigma)\\ as\\ n \\rightarrow \\infty for all x$$"
   ]
  },
  {
   "cell_type": "markdown",
   "metadata": {},
   "source": [
    "## Multivariate Distributions\n"
   ]
  },
  {
   "cell_type": "markdown",
   "metadata": {},
   "source": [
    "### Correlation and Covariance\n",
    "Given 2 Random variables we can use Correlation and Covariance to describe their _joint_ behaviour. \n",
    "The Covariance of 2 random variables X and Y is $\\sigma_{XY}$.\n",
    "$$\\sigma_{XY} = E\\big[\\{X - E(X)\\} \\cdot \\{Y - E(Y)\\}\\big]$$\n",
    "\n",
    "If X and Y are continuously distributed then:\n",
    "$$\\sigma_{XY} = \\int\\{X - E(X)\\} \\cdot \\{Y - E(Y)\\}\\ f_{XY}(X, Y)\\, dxdy$$\n",
    "\n",
    "While covariance can be used to measure the linear association between random variables its value is affected by the variability (std) of each variable. Therefore, generally, the higher the variability the higher the covariance.\n",
    "\n",
    "Correlation is the covariance with the variability normalised out. This gives a *purer* measure of how closely the variables are related.\n",
    "\n",
    "The correlation coefficient of two variables X and Y is:\n",
    "$$\\rho_{XY} = \\sigma_{XY} / (\\sigma_X \\cdot \\sigma_Y)$$\n",
    "\n",
    "If we take a bivariate sample from some multivariate normal distribution $\\{(X_i Y_i)\\}_{i = 1}^n$\n",
    "\n",
    "sample covariance:\n",
    "$$\\hat{\\sigma_{XY}} = s_{XY} = (n-1)^{-1} \\cdot \\sum^n_{i=1} (X_i - \\bar{X}) \\cdot (Y_i - \\bar{Y})$$\n",
    "\n",
    "sample correlation:\n",
    "$$\\hat{\\rho_{XY}} = r_{XY} = \\frac{s_{XY}}{s_X \\cdot s_Y}$$\n",
    "\n",
    "**NB: **\n",
    "- $s_X =$  the sample the standard deviation of X  \n",
    "- $s_Y =$ the sample the standard deviation of Y \n",
    "- A scatterplot is just a plot of the bivariate sample\n",
    "- correlation ranges from -1 to 1:\n",
    "    - if absolute value equals 1 they are very correlated\n",
    "        - the sign of the value indicates the direction of the correlation\n",
    "    - if absolute value equals 0 they are uncorrelated"
   ]
  },
  {
   "cell_type": "markdown",
   "metadata": {},
   "source": [
    "## Prediction\n",
    "\n",
    "Given a random variable X can we predict the value of another random variable Y. e.g. given the price of a stock can we predict the price of another."
   ]
  },
  {
   "cell_type": "markdown",
   "metadata": {},
   "source": [
    "### Best Linear Predictor\n",
    "Linear prediction is very closely related to linear regression it is a line equation where by we make estimates of the parameters.\n",
    "Linear Predictor of Y based on X is the function $\\beta_0 + \\beta_1X$\n",
    "\n",
    "**Best linear prediction** is when the parameters $\\beta_0$ and $\\beta_1$ minimize the expected squared prediction error:\n",
    "$$E(error^2) = E\\{Y - (\\beta_0 + \\beta_1X)\\}^2 $$\n",
    "\n",
    "This can be expanded to :\n",
    "\n",
    "$E\\big[Y^2 - 2Y(\\beta_0 + \\beta_1X) + (\\beta_0 + \\beta_1X)^2\\big]$\n",
    "\n",
    "$E(Y^2) - 2\\beta_0 E(Y) + 2\\beta_1 E(XY) + (\\beta_0 + \\beta_1X)^2$\n",
    "\n",
    "we can then take partial derivatives to minimise the expression.\n",
    "\n",
    "Following the algebra we get a best linear predictor of Y is:\n",
    "$$\\hat{Y} = \\beta_0 + \\beta_1X = E(Y) + \\frac{\\sigma_{XY}}{\\sigma^2_X}\\{X - E(X)\\}$$\n",
    "\n",
    "*Note: This formula relies on the knowledge of E(X), E(Y), $\\sigma_{XY}$ and $\\sigma^2_X$ estimates* \n"
   ]
  },
  {
   "cell_type": "markdown",
   "metadata": {},
   "source": [
    "### Prediction error\n",
    "\n",
    "The error of a predictor $\\hat{Y}$ is just $Y - \\hat{Y}$\n",
    "\n",
    "So the expected squared prediciton error will be\n",
    "$$E\\{Y - \\hat{Y}\\}^2 = \\sigma^2_Y - \\frac{\\sigma^2_{XY}}{\\sigma^2_X} = \\sigma^2_Y(1 - \\rho^2_XY)$$\n",
    "\n",
    "**How much extra value do the features (the matrix X) add to the predictor?**\n",
    "\n",
    "Well if we remove X from the equation and instead have a constant $c$ we can say: $E(Y - c) ^2 = \\sigma^2_Y + \\{c - E(Y)\\}^2$\n",
    "\n",
    "To minimise the expected squared error we make $c = E(Y)$ this means the best value of the squared error is $\\sigma^2_Y$. \n",
    "\n",
    "Therefore compared to the previous equation... adding X reduces the squared error to a smaller value $\\sigma^2_Y(1 - \\rho^2_XY)$\n",
    "\n",
    "e.g. if $\\rho_XY= 0.5$ we have the prediction error reduced by 25% as $\\rho^2_XY= 0.25$\n",
    "so if $\\sigma^2_Y = 3$ we have and error of $3\\{1 - 0.25\\}$\n",
    "\n",
    "*Note: if Y is independent of all available information i.e. Y is independent of X. Then the best predictor of Y is E(Y)*"
   ]
  },
  {
   "cell_type": "markdown",
   "metadata": {},
   "source": [
    "## Conditional Distributions\n",
    "**def: -** A conditional distribution is a probability distribution for a sub-population. In other words, it shows the probability that a randomly selected item in a sub-population has a characteristic you're interested.\n",
    "\n",
    "Given that the joint density of a pair of random variables(X, Y) can be calculated using $f_XY(x,y)$ then the marginal density of either X or Y can be found by *integrating out* the other term. i.e. the density of X, $f_X$ given $f_XY$ we do:\n",
    "\n",
    "$$f_X(x) = \\int f_XY(x,y)\\, dy$$\n",
    "\n",
    "And the **conditional density** is:\n",
    "\n",
    "$$f_{Y|X}(y|x) = \\frac{f_XY(x,y)}{f_X(x)}$$\n",
    "\n",
    "This can then be used to calculate the conditional expectation of Y. If we substitute in the **conditional density** equation we can calculate the *conditional expectation*\n",
    "$$E(Y | X = x) = \\int \\{y - E(Y|X = x)\\}^2f_{Y|X} (y|x)\\, dy$$\n",
    "\n",
    "And the same can be done for Variance\n",
    "\n",
    "$$Var(Y|X = x) = \\int \\{y - E(Y|X = x)\\}^2f_{Y|X}(y|x)\\, dy$$"
   ]
  },
  {
   "cell_type": "code",
   "execution_count": null,
   "metadata": {
    "collapsed": true
   },
   "outputs": [],
   "source": []
  }
 ],
 "metadata": {
  "kernelspec": {
   "display_name": "Python 3",
   "language": "python",
   "name": "python3"
  },
  "language_info": {
   "codemirror_mode": {
    "name": "ipython",
    "version": 3
   },
   "file_extension": ".py",
   "mimetype": "text/x-python",
   "name": "python",
   "nbconvert_exporter": "python",
   "pygments_lexer": "ipython3",
   "version": "3.6.2"
  },
  "toc": {
   "colors": {
    "hover_highlight": "#DAA520",
    "navigate_num": "#000000",
    "navigate_text": "#333333",
    "running_highlight": "#FF0000",
    "selected_highlight": "#FFD700",
    "sidebar_border": "#EEEEEE",
    "wrapper_background": "#FFFFFF"
   },
   "moveMenuLeft": true,
   "nav_menu": {
    "height": "118px",
    "width": "254px"
   },
   "navigate_menu": true,
   "number_sections": true,
   "sideBar": true,
   "threshold": 4,
   "toc_cell": false,
   "toc_section_display": "block",
   "toc_window_display": false,
   "widenNotebook": false
  }
 },
 "nbformat": 4,
 "nbformat_minor": 2
}
